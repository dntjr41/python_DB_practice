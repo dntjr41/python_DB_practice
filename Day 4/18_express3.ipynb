{
 "cells": [
  {
   "cell_type": "code",
   "execution_count": 1,
   "metadata": {},
   "outputs": [],
   "source": [
    "import re"
   ]
  },
  {
   "cell_type": "code",
   "execution_count": 4,
   "metadata": {},
   "outputs": [
    {
     "name": "stdout",
     "output_type": "stream",
     "text": [
      "공급면적: 220.98\n",
      "전용면적: 193.43\n"
     ]
    }
   ],
   "source": [
    "source1 = \"modelA 공급면적 220.98제곱미터 전용면적 193.43제곱미터\"\n",
    "result1 = re.findall('공급면적\\s+(.*?)제곱미터', source1)[0]\n",
    "result2 = re.findall('전용면적\\s+(.*?)제곱미터', source1)[0]\n",
    "print('공급면적:', result1)\n",
    "print('전용면적:', result2)"
   ]
  }
 ],
 "metadata": {
  "kernelspec": {
   "display_name": "Python 3",
   "language": "python",
   "name": "python3"
  },
  "language_info": {
   "codemirror_mode": {
    "name": "ipython",
    "version": 3
   },
   "file_extension": ".py",
   "mimetype": "text/x-python",
   "name": "python",
   "nbconvert_exporter": "python",
   "pygments_lexer": "ipython3",
   "version": "3.8.5"
  }
 },
 "nbformat": 4,
 "nbformat_minor": 4
}
