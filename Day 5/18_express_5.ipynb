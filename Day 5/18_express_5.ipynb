{
 "cells": [
  {
   "cell_type": "code",
   "execution_count": 1,
   "metadata": {},
   "outputs": [],
   "source": [
    "from pandas import Series\n",
    "import numpy as np\n",
    "import re"
   ]
  },
  {
   "cell_type": "code",
   "execution_count": 8,
   "metadata": {},
   "outputs": [],
   "source": [
    "people_info = {'hong':'mrhong@gmail.com', 'jang':'roadmount@naver.com', \n",
    "              'gilsoon':'hks900@naver.com', 'lim':'tmplim@gmail.com',\n",
    "              'mimi':'mimi@daum', 'unknown':np.nan}"
   ]
  },
  {
   "cell_type": "code",
   "execution_count": 9,
   "metadata": {},
   "outputs": [
    {
     "data": {
      "text/plain": [
       "hong          mrhong@gmail.com\n",
       "jang       roadmount@naver.com\n",
       "gilsoon       hks900@naver.com\n",
       "lim           tmplim@gmail.com\n",
       "mimi                 mimi@daum\n",
       "unknown                    NaN\n",
       "dtype: object"
      ]
     },
     "execution_count": 9,
     "metadata": {},
     "output_type": "execute_result"
    }
   ],
   "source": [
    "emailinfo = Series(people_info)\n",
    "emailinfo"
   ]
  },
  {
   "cell_type": "code",
   "execution_count": 10,
   "metadata": {},
   "outputs": [
    {
     "data": {
      "text/plain": [
       "hong       False\n",
       "jang        True\n",
       "gilsoon     True\n",
       "lim        False\n",
       "mimi       False\n",
       "unknown      NaN\n",
       "dtype: object"
      ]
     },
     "execution_count": 10,
     "metadata": {},
     "output_type": "execute_result"
    }
   ],
   "source": [
    "emailinfo.str.contains('naver')"
   ]
  },
  {
   "cell_type": "code",
   "execution_count": 11,
   "metadata": {},
   "outputs": [],
   "source": [
    "p = r'[a-z0-9._%+-]+@[a-z0-9]+\\.[a-z]{2,3}'"
   ]
  },
  {
   "cell_type": "code",
   "execution_count": 12,
   "metadata": {},
   "outputs": [
    {
     "data": {
      "text/plain": [
       "hong          [mrhong@gmail.com]\n",
       "jang       [roadmount@naver.com]\n",
       "gilsoon       [hks900@naver.com]\n",
       "lim           [tmplim@gmail.com]\n",
       "mimi                          []\n",
       "unknown                      NaN\n",
       "dtype: object"
      ]
     },
     "execution_count": 12,
     "metadata": {},
     "output_type": "execute_result"
    }
   ],
   "source": [
    "emailinfo.str.findall(p, flags = re.IGNORECASE)"
   ]
  },
  {
   "cell_type": "code",
   "execution_count": 13,
   "metadata": {},
   "outputs": [],
   "source": [
    "p1 = r'([a-z0-9._%+-]+)@([a-z0-9]+)\\.([a-z]{2,3})'"
   ]
  },
  {
   "cell_type": "code",
   "execution_count": 15,
   "metadata": {},
   "outputs": [
    {
     "data": {
      "text/plain": [
       "hong          [(mrhong, gmail, com)]\n",
       "jang       [(roadmount, naver, com)]\n",
       "gilsoon       [(hks900, naver, com)]\n",
       "lim           [(tmplim, gmail, com)]\n",
       "mimi                              []\n",
       "unknown                          NaN\n",
       "dtype: object"
      ]
     },
     "execution_count": 15,
     "metadata": {},
     "output_type": "execute_result"
    }
   ],
   "source": [
    "a = emailinfo.str.findall(p1, flags = re.IGNORECASE)\n",
    "a"
   ]
  },
  {
   "cell_type": "code",
   "execution_count": 16,
   "metadata": {},
   "outputs": [
    {
     "data": {
      "text/plain": [
       "[('roadmount', 'naver', 'com')]"
      ]
     },
     "execution_count": 16,
     "metadata": {},
     "output_type": "execute_result"
    }
   ],
   "source": [
    "a.get(1)"
   ]
  }
 ],
 "metadata": {
  "kernelspec": {
   "display_name": "Python 3",
   "language": "python",
   "name": "python3"
  },
  "language_info": {
   "codemirror_mode": {
    "name": "ipython",
    "version": 3
   },
   "file_extension": ".py",
   "mimetype": "text/x-python",
   "name": "python",
   "nbconvert_exporter": "python",
   "pygments_lexer": "ipython3",
   "version": "3.8.5"
  }
 },
 "nbformat": 4,
 "nbformat_minor": 4
}
