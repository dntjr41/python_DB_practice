{
 "cells": [
  {
   "cell_type": "code",
   "execution_count": 2,
   "metadata": {},
   "outputs": [
    {
     "name": "stdout",
     "output_type": "stream",
     "text": [
      "C:\\Users\n"
     ]
    }
   ],
   "source": [
    "%cd .."
   ]
  },
  {
   "cell_type": "code",
   "execution_count": 3,
   "metadata": {},
   "outputs": [
    {
     "name": "stdout",
     "output_type": "stream",
     "text": [
      " C 드라이브의 볼륨에는 이름이 없습니다.\n",
      " 볼륨 일련 번호: 5E91-199C\n",
      "\n",
      " C:\\Users 디렉터리\n",
      "\n",
      "2020-11-11  오전 12:57    <DIR>          .\n",
      "2020-11-11  오전 12:57    <DIR>          ..\n",
      "2017-11-22  오전 10:42    <DIR>          Administrator\n",
      "2020-12-21  오후 09:30    <DIR>          LG\n",
      "2020-11-11  오전 12:54    <DIR>          Public\n",
      "               0개 파일                   0 바이트\n",
      "               5개 디렉터리  74,232,844,288 바이트 남음\n"
     ]
    }
   ],
   "source": [
    "%ls"
   ]
  },
  {
   "cell_type": "code",
   "execution_count": 5,
   "metadata": {},
   "outputs": [
    {
     "name": "stdout",
     "output_type": "stream",
     "text": [
      " C 드라이브의 볼륨에는 이름이 없습니다.\n",
      " 볼륨 일련 번호: 5E91-199C\n",
      "\n",
      " C:\\Users 디렉터리\n",
      "\n"
     ]
    },
    {
     "name": "stderr",
     "output_type": "stream",
     "text": [
      "파일을 찾을 수 없습니다.\n"
     ]
    }
   ],
   "source": [
    "ls *.ipynb"
   ]
  },
  {
   "cell_type": "code",
   "execution_count": 9,
   "metadata": {},
   "outputs": [
    {
     "name": "stdout",
     "output_type": "stream",
     "text": [
      "[WinError 2] 지정된 파일을 찾을 수 없습니다: 'LG'\n",
      "C:\\Users\\LG\n"
     ]
    }
   ],
   "source": [
    "%cd LG"
   ]
  },
  {
   "cell_type": "code",
   "execution_count": 10,
   "metadata": {},
   "outputs": [],
   "source": [
    "%mkdir python_test"
   ]
  },
  {
   "cell_type": "code",
   "execution_count": 11,
   "metadata": {},
   "outputs": [],
   "source": [
    "%magic"
   ]
  },
  {
   "cell_type": "code",
   "execution_count": 12,
   "metadata": {
    "scrolled": true
   },
   "outputs": [
    {
     "name": "stdout",
     "output_type": "stream",
     "text": [
      "%cd ..\n",
      "%cd ..\n",
      "%ls\n",
      "ls *.ipynb\n",
      "ls *.ipynb\n",
      "%mkdir python_test\n",
      "%cd LG\n",
      "%cd LG\n",
      "%cd LG\n",
      "%mkdir python_test\n",
      "%magic\n",
      "%hist\n"
     ]
    }
   ],
   "source": [
    "%hist"
   ]
  }
 ],
 "metadata": {
  "kernelspec": {
   "display_name": "Python 3",
   "language": "python",
   "name": "python3"
  },
  "language_info": {
   "codemirror_mode": {
    "name": "ipython",
    "version": 3
   },
   "file_extension": ".py",
   "mimetype": "text/x-python",
   "name": "python",
   "nbconvert_exporter": "python",
   "pygments_lexer": "ipython3",
   "version": "3.8.5"
  }
 },
 "nbformat": 4,
 "nbformat_minor": 4
}
